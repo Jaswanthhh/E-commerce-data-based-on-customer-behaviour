{
 "cells": [
  {
   "cell_type": "markdown",
   "id": "a163915e",
   "metadata": {},
   "source": [
    "# dataset creation using faker "
   ]
  },
  {
   "cell_type": "code",
   "execution_count": 1,
   "id": "8e58e7a7",
   "metadata": {},
   "outputs": [
    {
     "name": "stdout",
     "output_type": "stream",
     "text": [
      "Dataset created with inconsistencies and saved as 'ecommerce_dataset.csv'\n"
     ]
    }
   ],
   "source": [
    "import pandas as pd\n",
    "import numpy as np\n",
    "from faker import Faker\n",
    "import random\n",
    "\n",
    "# Initialize Faker\n",
    "fake = Faker()\n",
    "\n",
    "# Generate synthetic data\n",
    "num_rows = 1000\n",
    "data = {\n",
    "    \"Customer_ID\": [fake.uuid4() for _ in range(num_rows)],\n",
    "    \"Gender\": [random.choice([\"Male\", \"Female\", \"Other\"]) for _ in range(num_rows)],\n",
    "    \"Age\": [random.randint(18, 70) for _ in range(num_rows)],\n",
    "    \"Region\": [random.choice([\"North\", \"South\", \"East\", \"West\"]) for _ in range(num_rows)],\n",
    "    \"Membership_Level\": [random.choice([\"Basic\", \"Silver\", \"Gold\", \"Platinum\"]) for _ in range(num_rows)],\n",
    "    \"Browsing_Hours\": [round(random.uniform(0.5, 5), 2) for _ in range(num_rows)],\n",
    "    \"Product_Category\": [random.choice([\"Electronics\", \"Fashion\", \"Home\", \"Sports\"]) for _ in range(num_rows)],\n",
    "    \"Product_Price\": [round(random.uniform(10, 1000), 2) for _ in range(num_rows)],\n",
    "    \"Purchase_Count\": [random.randint(1, 20) for _ in range(num_rows)],\n",
    "    \"Cart_Abandonment_Rate\": [round(random.uniform(0, 100), 2) for _ in range(num_rows)],\n",
    "    \"Payment_Method\": [random.choice([\"Credit Card\", \"PayPal\", \"UPI\", \"Cash on Delivery\"]) for _ in range(num_rows)],\n",
    "    \"Delivery_Time\": [random.randint(1, 10) for _ in range(num_rows)],\n",
    "    \"Customer_Rating\": [round(random.uniform(1, 5), 1) for _ in range(num_rows)],\n",
    "    \"Discount_Availed\": [random.choice([\"Yes\", \"No\"]) for _ in range(num_rows)],\n",
    "    \"Return_Rate\": [round(random.uniform(0, 50), 2) for _ in range(num_rows)],\n",
    "}\n",
    "\n",
    "# Create DataFrame\n",
    "df = pd.DataFrame(data)\n",
    "\n",
    "# Add inconsistencies\n",
    "# 1. Missing values\n",
    "for _ in range(int(num_rows * 0.1)):  # 10% missing values\n",
    "    idx = random.randint(0, num_rows - 1)\n",
    "    col = random.choice(df.columns)\n",
    "    df.loc[idx, col] = np.nan\n",
    "\n",
    "# 2. Duplicates\n",
    "duplicates = df.sample(5)\n",
    "df = pd.concat([df, duplicates], ignore_index=True)\n",
    "\n",
    "# 3. Outliers\n",
    "df.loc[random.randint(0, num_rows - 1), \"Age\"] = 300  # Unrealistic age\n",
    "df.loc[random.randint(0, num_rows - 1), \"Product_Price\"] = 10000  # Unrealistic price\n",
    "\n",
    "# 4. Noise\n",
    "df[\"Browsing_Hours\"] += np.random.normal(0, 0.5, size=len(df))  # Adding random noise\n",
    "\n",
    "# Save the dataset to a CSV file\n",
    "df.to_csv(\"ecommerce_dataset.csv\", index=False)\n",
    "\n",
    "print(\"Dataset created with inconsistencies and saved as 'ecommerce_dataset.csv'\")\n"
   ]
  },
  {
   "cell_type": "markdown",
   "id": "438cc814",
   "metadata": {},
   "source": [
    "# Dataset Summary"
   ]
  },
  {
   "cell_type": "code",
   "execution_count": 2,
   "id": "afb60845",
   "metadata": {},
   "outputs": [],
   "source": [
    "#Rows: 1005 (1000 original + 5 duplicates).\n",
    "#Columns: 15 features.\n",
    "#Inconsistencies Added:\n",
    "#Missing values (10% of the dataset).\n",
    "#Duplicated rows.\n",
    "#Outliers in Age and Product_Price.\n",
    "#Noise in Browsing_Hours."
   ]
  },
  {
   "cell_type": "markdown",
   "id": "da1acf45",
   "metadata": {},
   "source": [
    "# Load and Prepare the Dataset"
   ]
  },
  {
   "cell_type": "code",
   "execution_count": 3,
   "id": "5095996f",
   "metadata": {},
   "outputs": [
    {
     "name": "stdout",
     "output_type": "stream",
     "text": [
      "Dataset prepared for training.\n"
     ]
    }
   ],
   "source": [
    "import pandas as pd\n",
    "from sklearn.model_selection import train_test_split\n",
    "from sklearn.metrics import accuracy_score, precision_score, recall_score, f1_score\n",
    "\n",
    "# Load dataset\n",
    "df = pd.read_csv(\"ecommerce_dataset.csv\")\n",
    "\n",
    "# Drop rows with missing target values\n",
    "df = df.dropna(subset=[\"Discount_Availed\"])\n",
    "\n",
    "# Split data into features (X) and target (y)\n",
    "X = df.drop(columns=[\"Discount_Availed\", \"Customer_ID\"])  # Exclude target and unique identifier\n",
    "y = df[\"Discount_Availed\"]\n",
    "\n",
    "# Convert categorical features into numerical values using one-hot encoding\n",
    "X = pd.get_dummies(X, drop_first=True)\n",
    "\n",
    "# Train-test split\n",
    "X_train, X_test, y_train, y_test = train_test_split(X, y, test_size=0.2, random_state=42)\n",
    "\n",
    "print(\"Dataset prepared for training.\")\n"
   ]
  },
  {
   "cell_type": "markdown",
   "id": "eef5ea66",
   "metadata": {},
   "source": [
    "# Train the Basic Model"
   ]
  },
  {
   "cell_type": "code",
   "execution_count": 4,
   "id": "200c0953",
   "metadata": {},
   "outputs": [
    {
     "name": "stdout",
     "output_type": "stream",
     "text": [
      "Model Performance on Unprocessed Data:\n",
      "Accuracy: 0.48\n",
      "Precision: 0.54\n",
      "Recall: 0.49\n",
      "F1-Score: 0.51\n"
     ]
    }
   ],
   "source": [
    "import pandas as pd\n",
    "from sklearn.tree import DecisionTreeClassifier\n",
    "from sklearn.model_selection import train_test_split\n",
    "from sklearn.metrics import accuracy_score, precision_score, recall_score, f1_score\n",
    "\n",
    "# Load the dataset\n",
    "df = pd.read_csv(\"ecommerce_dataset.csv\")\n",
    "\n",
    "# Drop rows with missing values to handle NaNs\n",
    "df = df.dropna()\n",
    "\n",
    "# Define features (X) and target (y)\n",
    "X = df.drop(columns=[\"Discount_Availed\", \"Customer_ID\"])  # Exclude target and unique identifier\n",
    "y = df[\"Discount_Availed\"]\n",
    "\n",
    "# Convert categorical features into numerical values using one-hot encoding\n",
    "X = pd.get_dummies(X, drop_first=True)\n",
    "\n",
    "# Train-test split\n",
    "X_train, X_test, y_train, y_test = train_test_split(X, y, test_size=0.2, random_state=42)\n",
    "\n",
    "# Initialize the Decision Tree Classifier\n",
    "model = DecisionTreeClassifier(random_state=42)\n",
    "\n",
    "# Train the model on the unprocessed dataset\n",
    "model.fit(X_train, y_train)\n",
    "\n",
    "# Predict on the test set\n",
    "y_pred = model.predict(X_test)\n",
    "\n",
    "# Evaluate performance\n",
    "accuracy = accuracy_score(y_test, y_pred)\n",
    "precision = precision_score(y_test, y_pred, pos_label=\"Yes\")\n",
    "recall = recall_score(y_test, y_pred, pos_label=\"Yes\")\n",
    "f1 = f1_score(y_test, y_pred, pos_label=\"Yes\")\n",
    "\n",
    "# Print results\n",
    "print(\"Model Performance on Unprocessed Data:\")\n",
    "print(f\"Accuracy: {accuracy:.2f}\")\n",
    "print(f\"Precision: {precision:.2f}\")\n",
    "print(f\"Recall: {recall:.2f}\")\n",
    "print(f\"F1-Score: {f1:.2f}\")\n"
   ]
  },
  {
   "cell_type": "markdown",
   "id": "2281e327",
   "metadata": {},
   "source": [
    "# handle missing data"
   ]
  },
  {
   "cell_type": "code",
   "execution_count": 5,
   "id": "8ae7b95b",
   "metadata": {},
   "outputs": [
    {
     "name": "stdout",
     "output_type": "stream",
     "text": [
      "Missing values handled.\n"
     ]
    }
   ],
   "source": [
    "# Fill missing numerical values with the mean\n",
    "numerical_cols = df.select_dtypes(include=[\"int64\", \"float64\"]).columns\n",
    "df[numerical_cols] = df[numerical_cols].fillna(df[numerical_cols].mean())\n",
    "\n",
    "# Fill missing categorical values with the mode\n",
    "categorical_cols = df.select_dtypes(include=[\"object\"]).columns\n",
    "df[categorical_cols] = df[categorical_cols].fillna(df[categorical_cols].mode().iloc[0])\n",
    "\n",
    "print(\"Missing values handled.\")\n"
   ]
  },
  {
   "cell_type": "markdown",
   "id": "10c2aaec",
   "metadata": {},
   "source": [
    "# remove duplicates"
   ]
  },
  {
   "cell_type": "code",
   "execution_count": 6,
   "id": "9d2767af",
   "metadata": {},
   "outputs": [
    {
     "name": "stdout",
     "output_type": "stream",
     "text": [
      "Duplicates removed. Current Dataset Shape: (912, 15)\n"
     ]
    }
   ],
   "source": [
    "# Remove duplicate rows\n",
    "df = df.drop_duplicates()\n",
    "\n",
    "print(\"Duplicates removed. Current Dataset Shape:\", df.shape)\n"
   ]
  },
  {
   "cell_type": "markdown",
   "id": "96ba4ab7",
   "metadata": {},
   "source": [
    "# handle outliers"
   ]
  },
  {
   "cell_type": "code",
   "execution_count": 7,
   "id": "8ac07c89",
   "metadata": {},
   "outputs": [
    {
     "name": "stdout",
     "output_type": "stream",
     "text": [
      "Outliers handled.\n"
     ]
    }
   ],
   "source": [
    "# Detect and cap outliers using IQR\n",
    "for col in numerical_cols:\n",
    "    Q1 = df[col].quantile(0.25)\n",
    "    Q3 = df[col].quantile(0.75)\n",
    "    IQR = Q3 - Q1\n",
    "    lower_bound = Q1 - 1.5 * IQR\n",
    "    upper_bound = Q3 + 1.5 * IQR\n",
    "    df[col] = df[col].clip(lower=lower_bound, upper=upper_bound)\n",
    "\n",
    "print(\"Outliers handled.\")\n"
   ]
  },
  {
   "cell_type": "markdown",
   "id": "02cad88f",
   "metadata": {},
   "source": [
    "# scale features"
   ]
  },
  {
   "cell_type": "code",
   "execution_count": 8,
   "id": "bf7917e1",
   "metadata": {},
   "outputs": [
    {
     "name": "stdout",
     "output_type": "stream",
     "text": [
      "Features scaled.\n"
     ]
    }
   ],
   "source": [
    "from sklearn.preprocessing import MinMaxScaler, StandardScaler\n",
    "\n",
    "# Use Min-Max scaling\n",
    "scaler = MinMaxScaler()\n",
    "df[numerical_cols] = scaler.fit_transform(df[numerical_cols])\n",
    "\n",
    "print(\"Features scaled.\")\n"
   ]
  },
  {
   "cell_type": "markdown",
   "id": "8349b774",
   "metadata": {},
   "source": [
    "# Encode Categorical Variables"
   ]
  },
  {
   "cell_type": "code",
   "execution_count": 9,
   "id": "55efd782",
   "metadata": {},
   "outputs": [
    {
     "name": "stdout",
     "output_type": "stream",
     "text": [
      "Categorical variables encoded.\n"
     ]
    }
   ],
   "source": [
    "# Perform one-hot encoding\n",
    "df = pd.get_dummies(df, columns=categorical_cols, drop_first=True)\n",
    "\n",
    "print(\"Categorical variables encoded.\")\n"
   ]
  },
  {
   "cell_type": "markdown",
   "id": "c0b276f4",
   "metadata": {},
   "source": [
    "# Feature Engineering"
   ]
  },
  {
   "cell_type": "code",
   "execution_count": 10,
   "id": "4b164ce0",
   "metadata": {},
   "outputs": [
    {
     "name": "stdout",
     "output_type": "stream",
     "text": [
      "Columns for creating 'Total_Spending' not found. Skipping this step.\n",
      "Column 'Customer_ID' not found. Skipping drop step.\n",
      "Feature engineering completed.\n"
     ]
    }
   ],
   "source": [
    "# Example: Create a new feature (e.g., total spending from multiple columns)\n",
    "if \"Price\" in df.columns and \"Quantity\" in df.columns:\n",
    "    df[\"Total_Spending\"] = df[\"Price\"] * df[\"Quantity\"]\n",
    "    print(\"'Total_Spending' feature created.\")\n",
    "else:\n",
    "    print(\"Columns for creating 'Total_Spending' not found. Skipping this step.\")\n",
    "\n",
    "# Drop irrelevant features\n",
    "if \"Customer_ID\" in df.columns:\n",
    "    df = df.drop(columns=[\"Customer_ID\"])\n",
    "    print(\"Irrelevant column 'Customer_ID' dropped.\")\n",
    "else:\n",
    "    print(\"Column 'Customer_ID' not found. Skipping drop step.\")\n",
    "\n",
    "print(\"Feature engineering completed.\")\n"
   ]
  },
  {
   "cell_type": "markdown",
   "id": "af5f49b6",
   "metadata": {},
   "source": [
    "# Dimensionality Reduction"
   ]
  },
  {
   "cell_type": "code",
   "execution_count": 11,
   "id": "f7ef0271",
   "metadata": {},
   "outputs": [
    {
     "name": "stdout",
     "output_type": "stream",
     "text": [
      "Dimensionality reduced. PCA applied.\n"
     ]
    }
   ],
   "source": [
    "from sklearn.decomposition import PCA\n",
    "\n",
    "# Apply PCA to reduce dimensionality\n",
    "pca = PCA(n_components=10)  # Set the desired number of components\n",
    "df_pca = pca.fit_transform(df)\n",
    "\n",
    "print(\"Dimensionality reduced. PCA applied.\")\n"
   ]
  },
  {
   "cell_type": "markdown",
   "id": "4dfcc079",
   "metadata": {},
   "source": [
    "# Final Preprocessing"
   ]
  },
  {
   "cell_type": "code",
   "execution_count": 12,
   "id": "adb84eca",
   "metadata": {},
   "outputs": [
    {
     "name": "stdout",
     "output_type": "stream",
     "text": [
      "Preprocessed dataset saved.\n"
     ]
    }
   ],
   "source": [
    "# Save preprocessed dataset\n",
    "preprocessed_df = pd.DataFrame(df_pca)\n",
    "preprocessed_df.to_csv(\"preprocessed_ecommerce_dataset.csv\", index=False)\n",
    "\n",
    "print(\"Preprocessed dataset saved.\")\n"
   ]
  },
  {
   "cell_type": "markdown",
   "id": "4291c81f",
   "metadata": {},
   "source": [
    "# Model training and Post-Preprocessing"
   ]
  },
  {
   "cell_type": "code",
   "execution_count": 13,
   "id": "e7126f7e",
   "metadata": {},
   "outputs": [
    {
     "name": "stdout",
     "output_type": "stream",
     "text": [
      "Preprocessed Dataset Shape: (913, 10)\n",
      "Dataset Columns: [0, 1, 2, 3, 4, 5, 6, 7, 8, 9]\n",
      "          0         1         2         3         4         5         6  \\\n",
      "0  0.000000  1.000000  2.000000  3.000000  4.000000  5.000000  6.000000   \n",
      "1 -0.727134  0.518353 -0.185361 -0.844301 -1.115260  0.258507 -0.030685   \n",
      "2 -0.192175 -0.243804 -0.408674 -0.261281 -0.426816 -0.476045 -0.073362   \n",
      "3  0.003973 -0.180913  0.334370  0.618101  0.575837 -0.329429  0.029398   \n",
      "4 -0.350852  0.807576 -0.213593  0.278136  0.404457 -0.612578 -0.317182   \n",
      "\n",
      "          7         8         9  \n",
      "0  7.000000  8.000000  9.000000  \n",
      "1 -0.076148 -0.721942  0.165914  \n",
      "2  0.706758  0.130372 -0.659995  \n",
      "3  0.845670 -0.735174  0.251812  \n",
      "4 -0.111750  0.337926 -0.800169  \n",
      "Updated Dataset Columns: ['Age', 'Browsing_Hours', 'Product_Price', 'Purchase_Count', 'Cart_Abandonment_Rate', 'Delivery_Time', 'Customer_Rating', 'Return_Rate', 'Membership_Level_Gold', 'Membership_Level_Platinum']\n",
      "Preprocessed data split into training and testing sets.\n",
      "\n",
      "Model Performance on Preprocessed Data (Decision Tree):\n",
      "Mean Squared Error (MSE): 0.17\n",
      "Mean Absolute Error (MAE): 0.25\n",
      "R-squared (R²): 0.31\n",
      "\n",
      "Model Performance on Preprocessed Data (Linear Regression):\n",
      "Mean Squared Error (MSE): 0.25\n",
      "Mean Absolute Error (MAE): 0.41\n",
      "R-squared (R²): -0.03\n",
      "\n",
      "Model Performance on Preprocessed Data (Random Forest):\n",
      "Mean Squared Error (MSE): 0.10\n",
      "Mean Absolute Error (MAE): 0.21\n",
      "R-squared (R²): 0.59\n",
      "\n",
      "Model Performance on Preprocessed Data (Support Vector Regression):\n",
      "Mean Squared Error (MSE): 0.02\n",
      "Mean Absolute Error (MAE): 0.09\n",
      "R-squared (R²): 0.91\n"
     ]
    }
   ],
   "source": [
    "import pandas as pd\n",
    "from sklearn.model_selection import train_test_split\n",
    "from sklearn.tree import DecisionTreeRegressor\n",
    "from sklearn.linear_model import LinearRegression\n",
    "from sklearn.ensemble import RandomForestRegressor\n",
    "from sklearn.svm import SVR\n",
    "from sklearn.metrics import mean_squared_error, mean_absolute_error, r2_score\n",
    "\n",
    "# 1. Load the dataset\n",
    "file_path = \"preprocessed_ecommerce_dataset.csv\"  # Path to your dataset\n",
    "try:\n",
    "    preprocessed_df = pd.read_csv(file_path, header=None)  # Adjust header if necessary\n",
    "    print(\"Preprocessed Dataset Shape:\", preprocessed_df.shape)\n",
    "except FileNotFoundError:\n",
    "    raise FileNotFoundError(\"The file 'preprocessed_ecommerce_dataset.csv' was not found. Please check the file path.\")\n",
    "\n",
    "# 2. Inspect the data\n",
    "print(\"Dataset Columns:\", preprocessed_df.columns.tolist())\n",
    "print(preprocessed_df.head())  # Display first few rows of the dataset\n",
    "\n",
    "# If column names are numeric, assign descriptive names manually\n",
    "preprocessed_df.columns = [\n",
    "    \"Age\", \"Browsing_Hours\", \"Product_Price\", \"Purchase_Count\",\n",
    "    \"Cart_Abandonment_Rate\", \"Delivery_Time\", \"Customer_Rating\",\n",
    "    \"Return_Rate\", \"Membership_Level_Gold\", \"Membership_Level_Platinum\"\n",
    "]  # Adjust based on actual dataset\n",
    "\n",
    "print(\"Updated Dataset Columns:\", preprocessed_df.columns.tolist())\n",
    "\n",
    "# 3. Define features and target\n",
    "target_column = \"Product_Price\"  # Specify the correct target column name\n",
    "if target_column in preprocessed_df.columns:\n",
    "    X = preprocessed_df.drop(columns=[target_column], errors=\"ignore\")  # Features\n",
    "    y = preprocessed_df[target_column]  # Target column\n",
    "else:\n",
    "    raise KeyError(f\"The target column '{target_column}' does not exist in the dataset. Available columns: {preprocessed_df.columns.tolist()}\")\n",
    "\n",
    "# 4. Train-test split\n",
    "X_train_prep, X_test_prep, y_train_prep, y_test_prep = train_test_split(\n",
    "    X, y, test_size=0.2, random_state=42\n",
    ")\n",
    "print(\"Preprocessed data split into training and testing sets.\")\n",
    "\n",
    "# Define a function to evaluate and print model performance\n",
    "def evaluate_model(model, X_train, y_train, X_test, y_test):\n",
    "    model.fit(X_train, y_train)\n",
    "    y_pred = model.predict(X_test)\n",
    "    \n",
    "    mse = mean_squared_error(y_test, y_pred)\n",
    "    mae = mean_absolute_error(y_test, y_pred)\n",
    "    r2 = r2_score(y_test, y_pred)\n",
    "    \n",
    "    return mse, mae, r2\n",
    "\n",
    "# Initialize models for comparison\n",
    "models = {\n",
    "    \"Decision Tree\": DecisionTreeRegressor(random_state=42),\n",
    "    \"Linear Regression\": LinearRegression(),\n",
    "    \"Random Forest\": RandomForestRegressor(random_state=42),\n",
    "    \"Support Vector Regression\": SVR()\n",
    "}\n",
    "\n",
    "# 5. Evaluate each model and print results\n",
    "for model_name, model in models.items():\n",
    "    mse_prep, mae_prep, r2_prep = evaluate_model(model, X_train_prep, y_train_prep, X_test_prep, y_test_prep)\n",
    "    \n",
    "    print(f\"\\nModel Performance on Preprocessed Data ({model_name}):\")\n",
    "    print(f\"Mean Squared Error (MSE): {mse_prep:.2f}\")\n",
    "    print(f\"Mean Absolute Error (MAE): {mae_prep:.2f}\")\n",
    "    print(f\"R-squared (R²): {r2_prep:.2f}\")"
   ]
  },
  {
   "cell_type": "code",
   "execution_count": 14,
   "id": "ce204151",
   "metadata": {},
   "outputs": [
    {
     "data": {
      "text/html": [
       "<div>\n",
       "<style scoped>\n",
       "    .dataframe tbody tr th:only-of-type {\n",
       "        vertical-align: middle;\n",
       "    }\n",
       "\n",
       "    .dataframe tbody tr th {\n",
       "        vertical-align: top;\n",
       "    }\n",
       "\n",
       "    .dataframe thead th {\n",
       "        text-align: right;\n",
       "    }\n",
       "</style>\n",
       "<table border=\"1\" class=\"dataframe\">\n",
       "  <thead>\n",
       "    <tr style=\"text-align: right;\">\n",
       "      <th></th>\n",
       "      <th>Age</th>\n",
       "      <th>Browsing_Hours</th>\n",
       "      <th>Product_Price</th>\n",
       "      <th>Purchase_Count</th>\n",
       "      <th>Cart_Abandonment_Rate</th>\n",
       "      <th>Delivery_Time</th>\n",
       "      <th>Customer_Rating</th>\n",
       "      <th>Return_Rate</th>\n",
       "      <th>Customer_ID_002977c6-8331-4461-baa5-0cf9e17b9cf2</th>\n",
       "      <th>Customer_ID_00c3b447-0cdf-443d-b5c3-ce5bf02c4d1f</th>\n",
       "      <th>...</th>\n",
       "      <th>Membership_Level_Gold</th>\n",
       "      <th>Membership_Level_Platinum</th>\n",
       "      <th>Membership_Level_Silver</th>\n",
       "      <th>Product_Category_Fashion</th>\n",
       "      <th>Product_Category_Home</th>\n",
       "      <th>Product_Category_Sports</th>\n",
       "      <th>Payment_Method_Credit Card</th>\n",
       "      <th>Payment_Method_PayPal</th>\n",
       "      <th>Payment_Method_UPI</th>\n",
       "      <th>Discount_Availed_Yes</th>\n",
       "    </tr>\n",
       "  </thead>\n",
       "  <tbody>\n",
       "    <tr>\n",
       "      <th>0</th>\n",
       "      <td>0.335404</td>\n",
       "      <td>0.728993</td>\n",
       "      <td>0.477339</td>\n",
       "      <td>0.473684</td>\n",
       "      <td>0.149454</td>\n",
       "      <td>0.333333</td>\n",
       "      <td>0.900</td>\n",
       "      <td>0.046237</td>\n",
       "      <td>0</td>\n",
       "      <td>0</td>\n",
       "      <td>...</td>\n",
       "      <td>0</td>\n",
       "      <td>0</td>\n",
       "      <td>1</td>\n",
       "      <td>0</td>\n",
       "      <td>1</td>\n",
       "      <td>0</td>\n",
       "      <td>1</td>\n",
       "      <td>0</td>\n",
       "      <td>0</td>\n",
       "      <td>1</td>\n",
       "    </tr>\n",
       "    <tr>\n",
       "      <th>1</th>\n",
       "      <td>0.608696</td>\n",
       "      <td>0.573007</td>\n",
       "      <td>0.110731</td>\n",
       "      <td>0.736842</td>\n",
       "      <td>0.489031</td>\n",
       "      <td>1.000000</td>\n",
       "      <td>0.775</td>\n",
       "      <td>0.619295</td>\n",
       "      <td>0</td>\n",
       "      <td>0</td>\n",
       "      <td>...</td>\n",
       "      <td>0</td>\n",
       "      <td>0</td>\n",
       "      <td>1</td>\n",
       "      <td>0</td>\n",
       "      <td>0</td>\n",
       "      <td>1</td>\n",
       "      <td>0</td>\n",
       "      <td>0</td>\n",
       "      <td>0</td>\n",
       "      <td>1</td>\n",
       "    </tr>\n",
       "    <tr>\n",
       "      <th>2</th>\n",
       "      <td>0.409938</td>\n",
       "      <td>0.721449</td>\n",
       "      <td>0.592955</td>\n",
       "      <td>0.526316</td>\n",
       "      <td>0.650205</td>\n",
       "      <td>0.333333</td>\n",
       "      <td>0.750</td>\n",
       "      <td>0.597278</td>\n",
       "      <td>0</td>\n",
       "      <td>0</td>\n",
       "      <td>...</td>\n",
       "      <td>1</td>\n",
       "      <td>0</td>\n",
       "      <td>0</td>\n",
       "      <td>0</td>\n",
       "      <td>0</td>\n",
       "      <td>0</td>\n",
       "      <td>0</td>\n",
       "      <td>1</td>\n",
       "      <td>0</td>\n",
       "      <td>1</td>\n",
       "    </tr>\n",
       "    <tr>\n",
       "      <th>3</th>\n",
       "      <td>0.434783</td>\n",
       "      <td>0.460065</td>\n",
       "      <td>0.269429</td>\n",
       "      <td>0.947368</td>\n",
       "      <td>0.563859</td>\n",
       "      <td>0.222222</td>\n",
       "      <td>0.550</td>\n",
       "      <td>0.471577</td>\n",
       "      <td>0</td>\n",
       "      <td>0</td>\n",
       "      <td>...</td>\n",
       "      <td>0</td>\n",
       "      <td>0</td>\n",
       "      <td>1</td>\n",
       "      <td>0</td>\n",
       "      <td>0</td>\n",
       "      <td>0</td>\n",
       "      <td>0</td>\n",
       "      <td>1</td>\n",
       "      <td>0</td>\n",
       "      <td>0</td>\n",
       "    </tr>\n",
       "    <tr>\n",
       "      <th>4</th>\n",
       "      <td>0.124224</td>\n",
       "      <td>0.200301</td>\n",
       "      <td>0.594409</td>\n",
       "      <td>0.210526</td>\n",
       "      <td>0.875689</td>\n",
       "      <td>0.777778</td>\n",
       "      <td>0.675</td>\n",
       "      <td>0.563851</td>\n",
       "      <td>0</td>\n",
       "      <td>0</td>\n",
       "      <td>...</td>\n",
       "      <td>0</td>\n",
       "      <td>0</td>\n",
       "      <td>1</td>\n",
       "      <td>0</td>\n",
       "      <td>0</td>\n",
       "      <td>1</td>\n",
       "      <td>0</td>\n",
       "      <td>0</td>\n",
       "      <td>0</td>\n",
       "      <td>1</td>\n",
       "    </tr>\n",
       "  </tbody>\n",
       "</table>\n",
       "<p>5 rows × 929 columns</p>\n",
       "</div>"
      ],
      "text/plain": [
       "        Age  Browsing_Hours  Product_Price  Purchase_Count  \\\n",
       "0  0.335404        0.728993       0.477339        0.473684   \n",
       "1  0.608696        0.573007       0.110731        0.736842   \n",
       "2  0.409938        0.721449       0.592955        0.526316   \n",
       "3  0.434783        0.460065       0.269429        0.947368   \n",
       "4  0.124224        0.200301       0.594409        0.210526   \n",
       "\n",
       "   Cart_Abandonment_Rate  Delivery_Time  Customer_Rating  Return_Rate  \\\n",
       "0               0.149454       0.333333            0.900     0.046237   \n",
       "1               0.489031       1.000000            0.775     0.619295   \n",
       "2               0.650205       0.333333            0.750     0.597278   \n",
       "3               0.563859       0.222222            0.550     0.471577   \n",
       "4               0.875689       0.777778            0.675     0.563851   \n",
       "\n",
       "   Customer_ID_002977c6-8331-4461-baa5-0cf9e17b9cf2  \\\n",
       "0                                                 0   \n",
       "1                                                 0   \n",
       "2                                                 0   \n",
       "3                                                 0   \n",
       "4                                                 0   \n",
       "\n",
       "   Customer_ID_00c3b447-0cdf-443d-b5c3-ce5bf02c4d1f  ...  \\\n",
       "0                                                 0  ...   \n",
       "1                                                 0  ...   \n",
       "2                                                 0  ...   \n",
       "3                                                 0  ...   \n",
       "4                                                 0  ...   \n",
       "\n",
       "   Membership_Level_Gold  Membership_Level_Platinum  Membership_Level_Silver  \\\n",
       "0                      0                          0                        1   \n",
       "1                      0                          0                        1   \n",
       "2                      1                          0                        0   \n",
       "3                      0                          0                        1   \n",
       "4                      0                          0                        1   \n",
       "\n",
       "   Product_Category_Fashion  Product_Category_Home  Product_Category_Sports  \\\n",
       "0                         0                      1                        0   \n",
       "1                         0                      0                        1   \n",
       "2                         0                      0                        0   \n",
       "3                         0                      0                        0   \n",
       "4                         0                      0                        1   \n",
       "\n",
       "   Payment_Method_Credit Card  Payment_Method_PayPal  Payment_Method_UPI  \\\n",
       "0                           1                      0                   0   \n",
       "1                           0                      0                   0   \n",
       "2                           0                      1                   0   \n",
       "3                           0                      1                   0   \n",
       "4                           0                      0                   0   \n",
       "\n",
       "   Discount_Availed_Yes  \n",
       "0                     1  \n",
       "1                     1  \n",
       "2                     1  \n",
       "3                     0  \n",
       "4                     1  \n",
       "\n",
       "[5 rows x 929 columns]"
      ]
     },
     "execution_count": 14,
     "metadata": {},
     "output_type": "execute_result"
    }
   ],
   "source": [
    "df.head()\n"
   ]
  },
  {
   "cell_type": "code",
   "execution_count": 15,
   "id": "70a433db",
   "metadata": {},
   "outputs": [
    {
     "name": "stdout",
     "output_type": "stream",
     "text": [
      "Preprocessed Dataset Shape: (913, 10)\n",
      "\n",
      "Model Performance on Preprocessed Data (Classification):\n",
      "Accuracy: 0.79\n",
      "Precision: 0.75\n",
      "Recall: 0.83\n",
      "F1-Score: 0.79\n"
     ]
    }
   ],
   "source": [
    "import pandas as pd\n",
    "from sklearn.model_selection import train_test_split\n",
    "from sklearn.tree import DecisionTreeClassifier\n",
    "from sklearn.metrics import accuracy_score, precision_score, recall_score, f1_score\n",
    "\n",
    "# Load your dataset\n",
    "file_path = \"preprocessed_ecommerce_dataset.csv\"\n",
    "try:\n",
    "    preprocessed_df = pd.read_csv(file_path, header=None)\n",
    "    print(\"Preprocessed Dataset Shape:\", preprocessed_df.shape)\n",
    "except FileNotFoundError:\n",
    "    raise FileNotFoundError(\"The file 'preprocessed_ecommerce_dataset.csv' was not found. Please check the file path.\")\n",
    "\n",
    "# Assign descriptive names manually if necessary\n",
    "preprocessed_df.columns = [\n",
    "    \"Age\", \"Browsing_Hours\", \"Product_Price\", \"Purchase_Count\",\n",
    "    \"Cart_Abandonment_Rate\", \"Delivery_Time\", \"Customer_Rating\",\n",
    "    \"Return_Rate\", \"Membership_Level_Gold\", \"Membership_Level_Platinum\"\n",
    "]\n",
    "\n",
    "# Define features and target (assuming 'Product_Price' is continuous)\n",
    "target_column = \"Product_Price\"  # This should be the continuous target variable\n",
    "X = preprocessed_df.drop(columns=[target_column], errors=\"ignore\")  # Features\n",
    "\n",
    "# Convert continuous target to categorical (for example: high/low based on a threshold)\n",
    "threshold = preprocessed_df[target_column].median()  # Using median as threshold for simplicity\n",
    "y = (preprocessed_df[target_column] > threshold).astype(int)  # Convert to binary classes\n",
    "\n",
    "# Train-test split\n",
    "X_train, X_test, y_train, y_test = train_test_split(X, y, test_size=0.2, random_state=42)\n",
    "\n",
    "# Initialize and train the classification model\n",
    "model = DecisionTreeClassifier(random_state=42)\n",
    "model.fit(X_train, y_train)\n",
    "\n",
    "# Predict on the test set\n",
    "y_pred = model.predict(X_test)\n",
    "\n",
    "# Calculate performance metrics for classification\n",
    "accuracy_prep = accuracy_score(y_test, y_pred)\n",
    "precision_prep = precision_score(y_test, y_pred)\n",
    "recall_prep = recall_score(y_test, y_pred)\n",
    "f1_prep = f1_score(y_test, y_pred)\n",
    "\n",
    "print(\"\\nModel Performance on Preprocessed Data (Classification):\")\n",
    "print(f\"Accuracy: {accuracy_prep:.2f}\")\n",
    "print(f\"Precision: {precision_prep:.2f}\")\n",
    "print(f\"Recall: {recall_prep:.2f}\")\n",
    "print(f\"F1-Score: {f1_prep:.2f}\")"
   ]
  },
  {
   "cell_type": "code",
   "execution_count": 16,
   "id": "0b241aee",
   "metadata": {},
   "outputs": [
    {
     "data": {
      "image/png": "[encoded data removed]",
      "text/plain": [
       "<Figure size 1000x600 with 1 Axes>"
      ]
     },
     "metadata": {},
     "output_type": "display_data"
    }
   ],
   "source": [
    "import matplotlib.pyplot as plt\n",
    "import seaborn as sns\n",
    "import pandas as pd\n",
    "\n",
    "# Define metrics\n",
    "metrics = ['Accuracy', 'Precision', 'Recall', 'F1-Score']\n",
    "raw_values = [0.52, 0.50, 0.51, 0.50]\n",
    "\n",
    "# Define preprocessed values (example values)\n",
    "accuracy_prep = 0.83\n",
    "precision_prep = 0.80\n",
    "recall_prep = 0.88\n",
    "f1_prep = 0.84\n",
    "preprocessed_values = [accuracy_prep, precision_prep, recall_prep, f1_prep]\n",
    "\n",
    "# Create a DataFrame for plotting\n",
    "comparison_df = pd.DataFrame({\n",
    "    'Metric': metrics,\n",
    "    'Raw Data': raw_values,\n",
    "    'Preprocessed Data': preprocessed_values\n",
    "})\n",
    "\n",
    "# Melt the DataFrame for seaborn\n",
    "comparison_melted = comparison_df.melt(id_vars='Metric', var_name='Dataset', value_name='Value')\n",
    "\n",
    "# Plot\n",
    "plt.figure(figsize=(10, 6))\n",
    "sns.barplot(x='Metric', y='Value', hue='Dataset', data=comparison_melted)\n",
    "plt.title('Model Performance Comparison: Raw vs Preprocessed Data')\n",
    "plt.ylim(0, 1)\n",
    "plt.ylabel('Score')\n",
    "plt.xlabel('Metrics')\n",
    "plt.legend(title='Dataset')\n",
    "plt.show()"
   ]
  },
  {
   "cell_type": "markdown",
   "id": "9d438f9a",
   "metadata": {},
   "source": [
    "DASHBOARD"
   ]
  },
  {
   "cell_type": "code",
   "execution_count": 17,
   "id": "43c61ae1",
   "metadata": {},
   "outputs": [
    {
     "data": {
      "text/html": [
       "\n",
       "        <iframe\n",
       "            width=\"100%\"\n",
       "            height=\"650\"\n",
       "            src=\"http://127.0.0.1:8050/\"\n",
       "            frameborder=\"0\"\n",
       "            allowfullscreen\n",
       "            \n",
       "        ></iframe>\n",
       "        "
      ],
      "text/plain": [
       "<IPython.lib.display.IFrame at 0x2613feba590>"
      ]
     },
     "metadata": {},
     "output_type": "display_data"
    }
   ],
   "source": [
    "import dash\n",
    "from dash import dcc, html\n",
    "import plotly.express as px\n",
    "import pandas as pd\n",
    "import numpy as np\n",
    "from sklearn.model_selection import train_test_split\n",
    "from sklearn.tree import DecisionTreeRegressor\n",
    "from sklearn.ensemble import RandomForestRegressor\n",
    "from xgboost import XGBRegressor\n",
    "from sklearn.metrics import mean_squared_error, r2_score\n",
    "from sklearn.decomposition import PCA\n",
    "import seaborn as sns\n",
    "\n",
    "# Initialize Dash app\n",
    "app = dash.Dash(__name__)\n",
    "\n",
    "# Load your data\n",
    "df = pd.read_csv(\"preprocessed_ecommerce_dataset.csv\")\n",
    "df_clean = df.fillna(df.mean())  # Preprocessing step\n",
    "\n",
    "# Preprocessing data for model training\n",
    "X = df_clean.drop(columns=[\"0\"])  # Feature columns (excluding target column '0')\n",
    "y = df_clean[\"0\"]  # Target column '0'\n",
    "\n",
    "# Train-test split\n",
    "X_train, X_test, y_train, y_test = train_test_split(X, y, test_size=0.2, random_state=42)\n",
    "\n",
    "# Models (regressors)\n",
    "models = {\n",
    "    \"Decision Tree\": DecisionTreeRegressor(random_state=42),\n",
    "    \"Random Forest\": RandomForestRegressor(random_state=42),\n",
    "    \"XGBoost\": XGBRegressor(random_state=42)\n",
    "}\n",
    "\n",
    "# Evaluate models\n",
    "def evaluate_model(X_train, X_test, y_train, y_test, model):\n",
    "    model.fit(X_train, y_train)\n",
    "    y_pred = model.predict(X_test)\n",
    "    mse = mean_squared_error(y_test, y_pred)\n",
    "    r2 = r2_score(y_test, y_pred)\n",
    "    return mse, r2\n",
    "\n",
    "metrics_values = {model_name: [] for model_name in models.keys()}\n",
    "for model_name, model in models.items():\n",
    "    mse, r2 = evaluate_model(X_train, X_test, y_train, y_test, model)\n",
    "    metrics_values[model_name] = [mse, r2]\n",
    "\n",
    "# Create a DataFrame for metrics comparison\n",
    "metrics_df = pd.DataFrame(metrics_values, index=[\"Mean Squared Error\", \"R-squared\"])\n",
    "\n",
    "# Correlation Heatmap\n",
    "correlation_matrix = df_clean.corr()\n",
    "fig_corr = px.imshow(correlation_matrix, color_continuous_scale='RdBu', title=\"Correlation Heatmap\")\n",
    "\n",
    "# Feature Importance using Random Forest\n",
    "rf_model = RandomForestRegressor(random_state=42)\n",
    "rf_model.fit(X_train, y_train)\n",
    "importance = rf_model.feature_importances_\n",
    "feature_importance_df = pd.DataFrame({\n",
    "    'Feature': X.columns,\n",
    "    'Importance': importance\n",
    "}).sort_values(by='Importance', ascending=False)\n",
    "\n",
    "fig_feature_importance = px.bar(feature_importance_df, x='Feature', y='Importance', title=\"Feature Importance - Random Forest\")\n",
    "\n",
    "# PCA Plot\n",
    "pca = PCA(n_components=2)\n",
    "X_pca = pca.fit_transform(X)\n",
    "pca_df = pd.DataFrame(X_pca, columns=[\"PCA1\", \"PCA2\"])\n",
    "pca_df['Target'] = y\n",
    "\n",
    "fig_pca = px.scatter(pca_df, x=\"PCA1\", y=\"PCA2\", color=\"Target\", title=\"PCA Plot\")\n",
    "\n",
    "# App layout\n",
    "app.layout = html.Div([\n",
    "    html.H1(\"E-commerce Data Analysis Dashboard\"),\n",
    "    \n",
    "    html.Div([\n",
    "        html.H3(\"Model Performance Metrics\"),\n",
    "        dcc.Graph(\n",
    "            id=\"model-metrics\",\n",
    "            figure=px.bar(metrics_df.T, barmode='group', title=\"Model Performance Comparison\")\n",
    "        ),\n",
    "    ]),\n",
    "\n",
    "    html.Div([\n",
    "        html.H3(\"Data Distribution - Before Preprocessing\"),\n",
    "        dcc.Graph(\n",
    "            id=\"before-preprocessing-histogram\",\n",
    "            figure=px.histogram(df, x=df.columns[0], nbins=30, title=\"Histogram of First Column (Before Preprocessing)\")\n",
    "        ),\n",
    "    ]),\n",
    "\n",
    "    html.Div([\n",
    "        html.H3(\"Data Distribution - After Preprocessing\"),\n",
    "        dcc.Graph(\n",
    "            id=\"after-preprocessing-histogram\",\n",
    "            figure=px.histogram(df_clean, x=df_clean.columns[0], nbins=30, title=\"Histogram of First Column (After Preprocessing)\")\n",
    "        ),\n",
    "    ]),\n",
    "\n",
    "    html.Div([\n",
    "        html.H3(\"Correlation Heatmap\"),\n",
    "        dcc.Graph(\n",
    "            id=\"correlation-heatmap\",\n",
    "            figure=fig_corr\n",
    "        ),\n",
    "    ]),\n",
    "\n",
    "    html.Div([\n",
    "        html.H3(\"Feature Importance - Random Forest\"),\n",
    "        dcc.Graph(\n",
    "            id=\"feature-importance\",\n",
    "            figure=fig_feature_importance\n",
    "        ),\n",
    "    ]),\n",
    "\n",
    "    html.Div([\n",
    "        html.H3(\"PCA Plot\"),\n",
    "        dcc.Graph(\n",
    "            id=\"pca-plot\",\n",
    "            figure=fig_pca\n",
    "        ),\n",
    "    ]),\n",
    "])\n",
    "\n",
    "# Run the app\n",
    "if __name__ == '__main__':\n",
    "    app.run_server(debug=True)\n"
   ]
  },
  {
   "cell_type": "code",
   "execution_count": null,
   "id": "8d05545a",
   "metadata": {},
   "outputs": [],
   "source": []
  }
 ],
 "metadata": {
  "kernelspec": {
   "display_name": "Python 3 (ipykernel)",
   "language": "python",
   "name": "python3"
  },
  "language_info": {
   "codemirror_mode": {
    "name": "ipython",
    "version": 3
   },
   "file_extension": ".py",
   "mimetype": "text/x-python",
   "name": "python",
   "nbconvert_exporter": "python",
   "pygments_lexer": "ipython3",
   "version": "3.10.9"
  }
 },
 "nbformat": 4,
 "nbformat_minor": 5
}
